{
 "cells": [
  {
   "cell_type": "code",
   "execution_count": 6,
   "metadata": {},
   "outputs": [],
   "source": [
    "import os\n",
    "import pandas as pd\n",
    "from histopathology.datasets.base_dataset import TilesDataset, SlidesDataset"
   ]
  },
  {
   "cell_type": "code",
   "execution_count": 4,
   "metadata": {},
   "outputs": [],
   "source": [
    "data_root = \"/tmp/datasets\"\n",
    "panda_tiles_root = os.path.join(data_root, \"PANDA_tiles/PANDA_tiles_20210926-135446/panda_tiles_level1_224\")\n",
    "panda_wsi_root = os.path.join(data_root, \"PANDA\")\n",
    "\n",
    "root = \"~/workspace/hi-ml/hi-ml-histopathology/src/histopathology/configs/classification\"\n",
    "train_csv = os.path.join(root, \"custom_subset/panda/train_20.csv\")\n",
    "val_csv = os.path.join(root, \"custom_subset/panda/val_20.csv\")"
   ]
  },
  {
   "cell_type": "code",
   "execution_count": 9,
   "metadata": {},
   "outputs": [
    {
     "ename": "ValueError",
     "evalue": "Expected column 'label' not found in the dataframe",
     "output_type": "error",
     "traceback": [
      "\u001b[0;31m---------------------------------------------------------------------------\u001b[0m",
      "\u001b[0;31mValueError\u001b[0m                                Traceback (most recent call last)",
      "\u001b[0;32m/tmp/ipykernel_41826/1326576983.py\u001b[0m in \u001b[0;36m<module>\u001b[0;34m\u001b[0m\n\u001b[0;32m----> 1\u001b[0;31m \u001b[0mtiles_ds\u001b[0m \u001b[0;34m=\u001b[0m \u001b[0mTilesDataset\u001b[0m\u001b[0;34m(\u001b[0m\u001b[0mroot\u001b[0m\u001b[0;34m=\u001b[0m\u001b[0mpanda_tiles_root\u001b[0m\u001b[0;34m)\u001b[0m\u001b[0;34m\u001b[0m\u001b[0;34m\u001b[0m\u001b[0m\n\u001b[0m",
      "\u001b[0;32m~/workspace/hi-ml/hi-ml-histopathology/src/histopathology/datasets/base_dataset.py\u001b[0m in \u001b[0;36m__init__\u001b[0;34m(self, root, dataset_csv, dataset_df, train)\u001b[0m\n\u001b[1;32m     78\u001b[0m         \u001b[0;32mfor\u001b[0m \u001b[0mcolumn\u001b[0m \u001b[0;32min\u001b[0m \u001b[0mcolumns\u001b[0m\u001b[0;34m:\u001b[0m\u001b[0;34m\u001b[0m\u001b[0;34m\u001b[0m\u001b[0m\n\u001b[1;32m     79\u001b[0m             \u001b[0;32mif\u001b[0m \u001b[0mcolumn\u001b[0m \u001b[0;32mis\u001b[0m \u001b[0;32mnot\u001b[0m \u001b[0;32mNone\u001b[0m \u001b[0;32mand\u001b[0m \u001b[0mcolumn\u001b[0m \u001b[0;32mnot\u001b[0m \u001b[0;32min\u001b[0m \u001b[0mdataset_df\u001b[0m\u001b[0;34m.\u001b[0m\u001b[0mcolumns\u001b[0m\u001b[0;34m:\u001b[0m\u001b[0;34m\u001b[0m\u001b[0;34m\u001b[0m\u001b[0m\n\u001b[0;32m---> 80\u001b[0;31m                 \u001b[0;32mraise\u001b[0m \u001b[0mValueError\u001b[0m\u001b[0;34m(\u001b[0m\u001b[0;34mf\"Expected column '{column}' not found in the dataframe\"\u001b[0m\u001b[0;34m)\u001b[0m\u001b[0;34m\u001b[0m\u001b[0;34m\u001b[0m\u001b[0m\n\u001b[0m\u001b[1;32m     81\u001b[0m \u001b[0;34m\u001b[0m\u001b[0m\n\u001b[1;32m     82\u001b[0m         \u001b[0mdataset_df\u001b[0m \u001b[0;34m=\u001b[0m \u001b[0mdataset_df\u001b[0m\u001b[0;34m.\u001b[0m\u001b[0mset_index\u001b[0m\u001b[0;34m(\u001b[0m\u001b[0mself\u001b[0m\u001b[0;34m.\u001b[0m\u001b[0mTILE_ID_COLUMN\u001b[0m\u001b[0;34m)\u001b[0m\u001b[0;34m\u001b[0m\u001b[0;34m\u001b[0m\u001b[0m\n",
      "\u001b[0;31mValueError\u001b[0m: Expected column 'label' not found in the dataframe"
     ]
    }
   ],
   "source": [
    "tiles_ds = TilesDataset(root=panda_tiles_root)"
   ]
  },
  {
   "cell_type": "code",
   "execution_count": 8,
   "metadata": {},
   "outputs": [
    {
     "data": {
      "text/html": [
       "<div>\n",
       "<style scoped>\n",
       "    .dataframe tbody tr th:only-of-type {\n",
       "        vertical-align: middle;\n",
       "    }\n",
       "\n",
       "    .dataframe tbody tr th {\n",
       "        vertical-align: top;\n",
       "    }\n",
       "\n",
       "    .dataframe thead th {\n",
       "        text-align: right;\n",
       "    }\n",
       "</style>\n",
       "<table border=\"1\" class=\"dataframe\">\n",
       "  <thead>\n",
       "    <tr style=\"text-align: right;\">\n",
       "      <th></th>\n",
       "      <th>slide_id</th>\n",
       "      <th>tile_id</th>\n",
       "      <th>image</th>\n",
       "      <th>mask</th>\n",
       "      <th>tile_x</th>\n",
       "      <th>tile_y</th>\n",
       "      <th>occupancy</th>\n",
       "      <th>data_provider</th>\n",
       "      <th>slide_isup_grade</th>\n",
       "      <th>slide_gleason_score</th>\n",
       "    </tr>\n",
       "  </thead>\n",
       "  <tbody>\n",
       "    <tr>\n",
       "      <th>0</th>\n",
       "      <td>001d865e65ef5d2579c190a0e0350d8f</td>\n",
       "      <td>001d865e65ef5d2579c190a0e0350d8f.17808x_05736y</td>\n",
       "      <td>001d865e65ef5d2579c190a0e0350d8f/train_images/...</td>\n",
       "      <td>001d865e65ef5d2579c190a0e0350d8f/train_label_m...</td>\n",
       "      <td>17808.0</td>\n",
       "      <td>5736.0</td>\n",
       "      <td>0.365434</td>\n",
       "      <td>karolinska</td>\n",
       "      <td>0.0</td>\n",
       "      <td>0+0</td>\n",
       "    </tr>\n",
       "    <tr>\n",
       "      <th>1</th>\n",
       "      <td>001d865e65ef5d2579c190a0e0350d8f</td>\n",
       "      <td>001d865e65ef5d2579c190a0e0350d8f.18704x_05736y</td>\n",
       "      <td>001d865e65ef5d2579c190a0e0350d8f/train_images/...</td>\n",
       "      <td>001d865e65ef5d2579c190a0e0350d8f/train_label_m...</td>\n",
       "      <td>18704.0</td>\n",
       "      <td>5736.0</td>\n",
       "      <td>0.322066</td>\n",
       "      <td>karolinska</td>\n",
       "      <td>0.0</td>\n",
       "      <td>0+0</td>\n",
       "    </tr>\n",
       "    <tr>\n",
       "      <th>2</th>\n",
       "      <td>001d865e65ef5d2579c190a0e0350d8f</td>\n",
       "      <td>001d865e65ef5d2579c190a0e0350d8f.17808x_06632y</td>\n",
       "      <td>001d865e65ef5d2579c190a0e0350d8f/train_images/...</td>\n",
       "      <td>001d865e65ef5d2579c190a0e0350d8f/train_label_m...</td>\n",
       "      <td>17808.0</td>\n",
       "      <td>6632.0</td>\n",
       "      <td>0.859853</td>\n",
       "      <td>karolinska</td>\n",
       "      <td>0.0</td>\n",
       "      <td>0+0</td>\n",
       "    </tr>\n",
       "    <tr>\n",
       "      <th>3</th>\n",
       "      <td>001d865e65ef5d2579c190a0e0350d8f</td>\n",
       "      <td>001d865e65ef5d2579c190a0e0350d8f.18704x_06632y</td>\n",
       "      <td>001d865e65ef5d2579c190a0e0350d8f/train_images/...</td>\n",
       "      <td>001d865e65ef5d2579c190a0e0350d8f/train_label_m...</td>\n",
       "      <td>18704.0</td>\n",
       "      <td>6632.0</td>\n",
       "      <td>0.369898</td>\n",
       "      <td>karolinska</td>\n",
       "      <td>0.0</td>\n",
       "      <td>0+0</td>\n",
       "    </tr>\n",
       "    <tr>\n",
       "      <th>4</th>\n",
       "      <td>001d865e65ef5d2579c190a0e0350d8f</td>\n",
       "      <td>001d865e65ef5d2579c190a0e0350d8f.16912x_07528y</td>\n",
       "      <td>001d865e65ef5d2579c190a0e0350d8f/train_images/...</td>\n",
       "      <td>001d865e65ef5d2579c190a0e0350d8f/train_label_m...</td>\n",
       "      <td>16912.0</td>\n",
       "      <td>7528.0</td>\n",
       "      <td>0.161033</td>\n",
       "      <td>karolinska</td>\n",
       "      <td>0.0</td>\n",
       "      <td>0+0</td>\n",
       "    </tr>\n",
       "  </tbody>\n",
       "</table>\n",
       "</div>"
      ],
      "text/plain": [
       "                           slide_id  \\\n",
       "0  001d865e65ef5d2579c190a0e0350d8f   \n",
       "1  001d865e65ef5d2579c190a0e0350d8f   \n",
       "2  001d865e65ef5d2579c190a0e0350d8f   \n",
       "3  001d865e65ef5d2579c190a0e0350d8f   \n",
       "4  001d865e65ef5d2579c190a0e0350d8f   \n",
       "\n",
       "                                          tile_id  \\\n",
       "0  001d865e65ef5d2579c190a0e0350d8f.17808x_05736y   \n",
       "1  001d865e65ef5d2579c190a0e0350d8f.18704x_05736y   \n",
       "2  001d865e65ef5d2579c190a0e0350d8f.17808x_06632y   \n",
       "3  001d865e65ef5d2579c190a0e0350d8f.18704x_06632y   \n",
       "4  001d865e65ef5d2579c190a0e0350d8f.16912x_07528y   \n",
       "\n",
       "                                               image  \\\n",
       "0  001d865e65ef5d2579c190a0e0350d8f/train_images/...   \n",
       "1  001d865e65ef5d2579c190a0e0350d8f/train_images/...   \n",
       "2  001d865e65ef5d2579c190a0e0350d8f/train_images/...   \n",
       "3  001d865e65ef5d2579c190a0e0350d8f/train_images/...   \n",
       "4  001d865e65ef5d2579c190a0e0350d8f/train_images/...   \n",
       "\n",
       "                                                mask   tile_x  tile_y  \\\n",
       "0  001d865e65ef5d2579c190a0e0350d8f/train_label_m...  17808.0  5736.0   \n",
       "1  001d865e65ef5d2579c190a0e0350d8f/train_label_m...  18704.0  5736.0   \n",
       "2  001d865e65ef5d2579c190a0e0350d8f/train_label_m...  17808.0  6632.0   \n",
       "3  001d865e65ef5d2579c190a0e0350d8f/train_label_m...  18704.0  6632.0   \n",
       "4  001d865e65ef5d2579c190a0e0350d8f/train_label_m...  16912.0  7528.0   \n",
       "\n",
       "   occupancy data_provider  slide_isup_grade slide_gleason_score  \n",
       "0   0.365434    karolinska               0.0                 0+0  \n",
       "1   0.322066    karolinska               0.0                 0+0  \n",
       "2   0.859853    karolinska               0.0                 0+0  \n",
       "3   0.369898    karolinska               0.0                 0+0  \n",
       "4   0.161033    karolinska               0.0                 0+0  "
      ]
     },
     "execution_count": 8,
     "metadata": {},
     "output_type": "execute_result"
    }
   ],
   "source": [
    "df = pd.read_csv(train_csv)\n",
    "df.head()"
   ]
  }
 ],
 "metadata": {
  "interpreter": {
   "hash": "52202c07bdfbca3d4c5865ae6864454e7d6ea43486cb431d96646f705f40329b"
  },
  "kernelspec": {
   "display_name": "Python 3.7.3 ('HimlHisto')",
   "language": "python",
   "name": "python3"
  },
  "language_info": {
   "codemirror_mode": {
    "name": "ipython",
    "version": 3
   },
   "file_extension": ".py",
   "mimetype": "text/x-python",
   "name": "python",
   "nbconvert_exporter": "python",
   "pygments_lexer": "ipython3",
   "version": "3.7.3"
  },
  "orig_nbformat": 4
 },
 "nbformat": 4,
 "nbformat_minor": 2
}
