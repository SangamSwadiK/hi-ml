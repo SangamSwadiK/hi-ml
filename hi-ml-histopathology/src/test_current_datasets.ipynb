{
 "cells": [
  {
   "cell_type": "code",
   "execution_count": 1,
   "metadata": {},
   "outputs": [
    {
     "name": "stderr",
     "output_type": "stream",
     "text": [
      "Failure while loading azureml_run_type_providers. Failed to load entrypoint automl = azureml.train.automl.run:AutoMLRun._from_run_dto with exception (cloudpickle 2.0.0 (/home/t-kbouzid/miniconda3/envs/HimlHisto/lib/python3.7/site-packages), Requirement.parse('cloudpickle<2.0.0,>=1.1.0'), {'azureml-dataprep'}).\n"
     ]
    }
   ],
   "source": [
    "import os, sys\n",
    "import pandas as pd\n",
    "import importlib\n",
    "\n",
    "sys.path.insert(0, os.path.abspath(\"../../hi-ml/src\"))\n",
    "sys.path.insert(0, os.path.abspath(\"../../hi-ml-azure/src\"))\n",
    "from histopathology.datasets.panda_tiles_dataset import PandaTilesDataset\n",
    "from histopathology.datasets.base_dataset import TilesDataset, SlidesDataset\n",
    "from health_ml.utils.bag_utils import BagDataset\n",
    "import histopathology.datamodules.panda_module as panda_module\n",
    "import histopathology.configs.classification.DeepSMILEPanda as mil_configs\n",
    "from histopathology.models.transforms import LoadTilesBatchd\n",
    "from monai.data.dataset import Dataset\n",
    "from monai.apps.pathology.transforms import TileOnGridd"
   ]
  },
  {
   "cell_type": "code",
   "execution_count": 4,
   "metadata": {},
   "outputs": [],
   "source": [
    "data_root = \"/tmp/datasets\"\n",
    "panda_tiles_root = os.path.join(data_root, \"PANDA_tiles\")\n",
    "panda_wsi_root = os.path.join(data_root, \"PANDA\")\n",
    "root = \"~/workspace/repos/hi-ml/hi-ml-histopathology/src/histopathology/configs/classification\"\n",
    "train_csv = os.path.join(root, \"custom_subset/panda/train_tiles_20.csv\")\n",
    "val_csv = os.path.join(root, \"custom_subset/panda/val_tiles_5.csv\")"
   ]
  },
  {
   "cell_type": "markdown",
   "metadata": {},
   "source": [
    "## Tiles Exploration"
   ]
  },
  {
   "cell_type": "markdown",
   "metadata": {},
   "source": [
    "### Data Modules"
   ]
  },
  {
   "cell_type": "code",
   "execution_count": 3,
   "metadata": {},
   "outputs": [
    {
     "data": {
      "text/plain": [
       "dict_keys(['tile_id', 'slide_id', 'mask', 'tile_x', 'tile_y', 'occupancy', 'data_provider', 'slide_isup_grade', 'slide_gleason_score', 'image', 'image_path'])"
      ]
     },
     "execution_count": 3,
     "metadata": {},
     "output_type": "execute_result"
    }
   ],
   "source": [
    "tiles_ds = PandaTilesDataset(root=panda_tiles_root, dataset_csv=train_csv)\n",
    "bag_ds = BagDataset(tiles_ds,\n",
    "                    bag_ids=tiles_ds.slide_ids,\n",
    "                    shuffle_samples=True)\n",
    "bag_ds.__getitem__(0).keys()"
   ]
  },
  {
   "cell_type": "code",
   "execution_count": 11,
   "metadata": {},
   "outputs": [
    {
     "data": {
      "text/plain": [
       "61"
      ]
     },
     "execution_count": 11,
     "metadata": {},
     "output_type": "execute_result"
    }
   ],
   "source": [
    "len(bag_ds.__getitem__(0)[\"image\"])"
   ]
  },
  {
   "cell_type": "code",
   "execution_count": 12,
   "metadata": {},
   "outputs": [
    {
     "data": {
      "text/plain": [
       "torch.Size([65, 3, 224, 224])"
      ]
     },
     "execution_count": 12,
     "metadata": {},
     "output_type": "execute_result"
    }
   ],
   "source": [
    "transform = LoadTilesBatchd(tiles_ds.IMAGE_COLUMN, allow_missing_keys=True)\n",
    "dataset = Dataset(bag_ds)\n",
    "out = transform(dataset.__getitem__(1))\n",
    "out[\"image\"].shape"
   ]
  },
  {
   "cell_type": "markdown",
   "metadata": {},
   "source": [
    "### MIL Module"
   ]
  },
  {
   "cell_type": "code",
   "execution_count": 3,
   "metadata": {},
   "outputs": [
    {
     "name": "stderr",
     "output_type": "stream",
     "text": [
      "/home/t-kbouzid/miniconda3/envs/HimlHisto/lib/python3.7/site-packages/torchmetrics/utilities/prints.py:36: UserWarning: Metric `AUROC` will save all targets and predictions in buffer. For large datasets this may lead to large memory footprint.\n",
      "  warnings.warn(*args, **kwargs)\n"
     ]
    }
   ],
   "source": [
    "importlib.reload(mil_configs)\n",
    "mil_test = mil_configs.SubPandaImageNetMIL()\n",
    "mil_test.setup()\n",
    "deepmil_module = mil_test.create_model()"
   ]
  },
  {
   "cell_type": "code",
   "execution_count": 4,
   "metadata": {},
   "outputs": [
    {
     "data": {
      "text/plain": [
       "(512,)"
      ]
     },
     "execution_count": 4,
     "metadata": {},
     "output_type": "execute_result"
    }
   ],
   "source": [
    "deepmil_module.encoder.input_dim"
   ]
  },
  {
   "cell_type": "code",
   "execution_count": 20,
   "metadata": {},
   "outputs": [
    {
     "name": "stdout",
     "output_type": "stream",
     "text": [
      "(3, 224, 224)\n"
     ]
    }
   ],
   "source": [
    "encoder = mil_test.get_encoder()\n",
    "print(encoder.input_dim)"
   ]
  },
  {
   "cell_type": "code",
   "execution_count": 21,
   "metadata": {},
   "outputs": [
    {
     "data": {
      "text/plain": [
       "torch.Size([65, 512])"
      ]
     },
     "execution_count": 21,
     "metadata": {},
     "output_type": "execute_result"
    }
   ],
   "source": [
    "embedding = encoder(out[\"image\"])\n",
    "embedding.shape"
   ]
  },
  {
   "cell_type": "code",
   "execution_count": 22,
   "metadata": {},
   "outputs": [],
   "source": [
    "data_module = mil_test.get_data_module()"
   ]
  },
  {
   "cell_type": "code",
   "execution_count": 23,
   "metadata": {},
   "outputs": [],
   "source": [
    "train, test, val = data_module.get_splits()"
   ]
  },
  {
   "cell_type": "code",
   "execution_count": 24,
   "metadata": {},
   "outputs": [
    {
     "name": "stdout",
     "output_type": "stream",
     "text": [
      "Loading dataset from /tmp/innereye_cache1/SubPandaImageNetMIL-ImageNetEncoder/train_dataset.pt into cpu\n"
     ]
    }
   ],
   "source": [
    "bag = data_module._load_dataset(train, stage=\"train\", shuffle=False)"
   ]
  },
  {
   "cell_type": "markdown",
   "metadata": {},
   "source": [
    "## Whole Slide Loading test"
   ]
  },
  {
   "cell_type": "code",
   "execution_count": 5,
   "metadata": {},
   "outputs": [],
   "source": [
    "importlib.reload(panda_module)\n",
    "train_csv = os.path.join(root, \"custom_subset/panda/train_slides_20.csv\")\n",
    "val_csv = os.path.join(root, \"custom_subset/panda/val_slides_5.csv\")\n",
    "wsi_data_module = panda_module.SubPandaSlidesDataModule(root_path=panda_wsi_root,train_csv=train_csv, val_csv=val_csv)"
   ]
  },
  {
   "cell_type": "code",
   "execution_count": 6,
   "metadata": {},
   "outputs": [],
   "source": [
    "train, test, val = wsi_data_module.get_splits()"
   ]
  },
  {
   "cell_type": "code",
   "execution_count": 7,
   "metadata": {},
   "outputs": [
    {
     "data": {
      "text/plain": [
       "{<SlideKey.SLIDE_ID: 'slide_id'>: '0005f7aaab2800f6170c399693a96917',\n",
       " <SlideKey.IMAGE: 'image'>: '/tmp/datasets/PANDA/train_images/0005f7aaab2800f6170c399693a96917.tiff',\n",
       " <SlideKey.IMAGE_PATH: 'image_path'>: '/tmp/datasets/PANDA/train_images/0005f7aaab2800f6170c399693a96917.tiff',\n",
       " <SlideKey.MASK: 'mask'>: '/tmp/datasets/PANDA/train_label_masks/0005f7aaab2800f6170c399693a96917_mask.tiff',\n",
       " <SlideKey.MASK_PATH: 'mask_path'>: '/tmp/datasets/PANDA/train_label_masks/0005f7aaab2800f6170c399693a96917_mask.tiff',\n",
       " <SlideKey.LABEL: 'label'>: 0,\n",
       " <SlideKey.METADATA: 'metadata'>: {'data_provider': 'karolinska',\n",
       "  'isup_grade': 0,\n",
       "  'gleason_score': '0+0'}}"
      ]
     },
     "execution_count": 7,
     "metadata": {},
     "output_type": "execute_result"
    }
   ],
   "source": [
    "train.__getitem__(0)"
   ]
  },
  {
   "cell_type": "code",
   "execution_count": 8,
   "metadata": {},
   "outputs": [],
   "source": [
    "wsi_dataset = wsi_data_module._load_dataset(stage=\"train\")"
   ]
  },
  {
   "cell_type": "code",
   "execution_count": 9,
   "metadata": {},
   "outputs": [
    {
     "name": "stderr",
     "output_type": "stream",
     "text": [
      "[Plugin: cucim.kit.cuslide] Loading the dynamic library from: /home/t-kbouzid/miniconda3/envs/HimlHisto/lib/python3.7/site-packages/cucim/clara/cucim.kit.cuslide@22.02.00.so\n",
      "Initializing plugin: cucim.kit.cuslide (interfaces: [cucim::io::IImageFormat v0.1]) (impl: cucim.kit.cuslide)\n",
      "[Plugin: cucim.kit.cumed] Loading the dynamic library from: /home/t-kbouzid/miniconda3/envs/HimlHisto/lib/python3.7/site-packages/cucim/clara/cucim.kit.cumed@22.02.00.so\n",
      "Initializing plugin: cucim.kit.cumed (interfaces: [cucim::io::IImageFormat v0.1]) (impl: cucim.kit.cumed)\n"
     ]
    },
    {
     "data": {
      "text/plain": [
       "54"
      ]
     },
     "execution_count": 9,
     "metadata": {},
     "output_type": "execute_result"
    }
   ],
   "source": [
    "len(wsi_dataset.__getitem__(0))"
   ]
  },
  {
   "cell_type": "code",
   "execution_count": 10,
   "metadata": {},
   "outputs": [],
   "source": [
    "data_loader = wsi_data_module._get_dataloader(stage=\"train\", shuffle=True)"
   ]
  },
  {
   "cell_type": "code",
   "execution_count": 11,
   "metadata": {},
   "outputs": [],
   "source": [
    "X_d = next(iter(data_loader))"
   ]
  },
  {
   "cell_type": "code",
   "execution_count": 12,
   "metadata": {},
   "outputs": [
    {
     "data": {
      "text/plain": [
       "torch.Size([1, 92, 3, 256, 256])"
      ]
     },
     "execution_count": 12,
     "metadata": {},
     "output_type": "execute_result"
    }
   ],
   "source": [
    "X_d[\"image\"].shape"
   ]
  },
  {
   "cell_type": "code",
   "execution_count": 13,
   "metadata": {},
   "outputs": [
    {
     "data": {
      "text/plain": [
       "dict_keys([<SlideKey.SLIDE_ID: 'slide_id'>, <SlideKey.IMAGE: 'image'>, <SlideKey.IMAGE_PATH: 'image_path'>, <SlideKey.MASK: 'mask'>, <SlideKey.MASK_PATH: 'mask_path'>, <SlideKey.LABEL: 'label'>, <SlideKey.METADATA: 'metadata'>])"
      ]
     },
     "execution_count": 13,
     "metadata": {},
     "output_type": "execute_result"
    }
   ],
   "source": [
    "X_d.keys()"
   ]
  }
 ],
 "metadata": {
  "interpreter": {
   "hash": "52202c07bdfbca3d4c5865ae6864454e7d6ea43486cb431d96646f705f40329b"
  },
  "kernelspec": {
   "display_name": "Python 3.7.3 ('HimlHisto')",
   "language": "python",
   "name": "python3"
  },
  "language_info": {
   "codemirror_mode": {
    "name": "ipython",
    "version": 3
   },
   "file_extension": ".py",
   "mimetype": "text/x-python",
   "name": "python",
   "nbconvert_exporter": "python",
   "pygments_lexer": "ipython3",
   "version": "3.7.3"
  },
  "orig_nbformat": 4
 },
 "nbformat": 4,
 "nbformat_minor": 2
}
